{
 "cells": [
  {
   "cell_type": "code",
   "execution_count": 6,
   "id": "51a3b3af",
   "metadata": {},
   "outputs": [
    {
     "name": "stdout",
     "output_type": "stream",
     "text": [
      "Element is present at index 3\n"
     ]
    }
   ],
   "source": [
    "def binary_search(A, x):\n",
    "    low = 0\n",
    "    high = len(A) - 1\n",
    "    mid = 0\n",
    " \n",
    "    while low <= high:\n",
    "        mid = low + (high - low)//2\n",
    " \n",
    "        if A[mid] < x:  \n",
    "            low = mid + 1\n",
    " \n",
    "        elif A[mid] > x:  \n",
    "            high = mid - 1\n",
    " \n",
    "        else:     \n",
    "            return mid\n",
    " \n",
    "    return None\n",
    " \n",
    "# Test data\n",
    "result = binary_search([1,2,3,5,8], 5) \n",
    " \n",
    "if result != None:\n",
    "    print(\"Element is present at index\", str(result))\n",
    "else:\n",
    "    print(\"Element is not present in array\")"
   ]
  },
  {
   "cell_type": "code",
   "execution_count": 9,
   "id": "f3645ad7",
   "metadata": {},
   "outputs": [
    {
     "name": "stdout",
     "output_type": "stream",
     "text": [
      "81\n"
     ]
    }
   ],
   "source": [
    "# 2. Write a Python program to calculate the value of 'a' to the power 'b'.\n",
    "\n",
    "def power(a,b):\n",
    "    if b==0:\n",
    "        return 1\n",
    "    elif a==0:\n",
    "        return 0\n",
    "    elif b==1:\n",
    "        return a\n",
    "    else:\n",
    "        return a*power(a,b-1)\n",
    "\n",
    "# Test data\n",
    "print(power(3,4))"
   ]
  },
  {
   "cell_type": "code",
   "execution_count": 14,
   "id": "9e885eac",
   "metadata": {},
   "outputs": [
    {
     "name": "stdout",
     "output_type": "stream",
     "text": [
      "Sorted list is:\n"
     ]
    },
    {
     "data": {
      "text/plain": [
       "[13, 22, 29, 37, 46, 49, 52, 56, 71]"
      ]
     },
     "execution_count": 14,
     "metadata": {},
     "output_type": "execute_result"
    }
   ],
   "source": [
    "#3. Write a Python program to sort a list of elements using the bubble sort algorithm.\n",
    "\n",
    "def bubble_sort(A):\n",
    "    N = len(A)\n",
    "    for i in range(N-1):\n",
    "        for j in range(N-i-1):\n",
    "            if A[j]>A[j+1]:\n",
    "                A[j], A[j+1] = A[j+1], A[j]\n",
    "                \n",
    "                \n",
    "List=[29,13,22,37,52,49,46,71,56]\n",
    "\n",
    "print(\"Sorted list is:\")\n",
    "bubble_sort(List)\n",
    "List"
   ]
  },
  {
   "cell_type": "code",
   "execution_count": 17,
   "id": "4dfaa5c5",
   "metadata": {},
   "outputs": [
    {
     "name": "stdout",
     "output_type": "stream",
     "text": [
      "Sorted list is:\n"
     ]
    },
    {
     "data": {
      "text/plain": [
       "[13, 22, 29, 37, 46, 49, 52, 56, 71]"
      ]
     },
     "execution_count": 17,
     "metadata": {},
     "output_type": "execute_result"
    }
   ],
   "source": [
    "#4. Write a Python program to sort a list of elements using the merge sort algorithm.\n",
    "def merge_sort(A):\n",
    "    if len(A) > 1:\n",
    "        mid = len(A) // 2\n",
    "        left = A[:mid]\n",
    "        right = A[mid:]\n",
    "        \n",
    "        merge_sort(left)\n",
    "        merge_sort(right)\n",
    "        \n",
    "        i = 0\n",
    "        j = 0\n",
    "        k = 0\n",
    "        \n",
    "        while i < len(left) and j < len(right):\n",
    "            if left[i] < right[j]:\n",
    "                A[k] = left[i]\n",
    "                i += 1\n",
    "            else:\n",
    "                A[k] = right[j]\n",
    "                j += 1\n",
    "            k += 1\n",
    "                \n",
    "        while i < len(left):\n",
    "            A[k] = left[i]\n",
    "            i += 1\n",
    "            k +=1\n",
    "            \n",
    "        while j < len(right):\n",
    "            A[k]=right[j]\n",
    "            j += 1\n",
    "            k += 1\n",
    "            \n",
    "List=[29,13,22,37,52,49,46,71,56]\n",
    "\n",
    "print(\"Sorted list is:\")\n",
    "merge_sort(List)\n",
    "List"
   ]
  },
  {
   "cell_type": "code",
   "execution_count": 19,
   "id": "b5f9bc46",
   "metadata": {},
   "outputs": [
    {
     "name": "stdout",
     "output_type": "stream",
     "text": [
      "Sorted list is: [13, 22, 29, 37, 46, 49, 52, 56, 71]\n"
     ]
    }
   ],
   "source": [
    "#5. Write a Python program to sort a list of elements using the quick sort algorithm.\n",
    "\n",
    "def quick_sort(A):\n",
    "    if len(A)<=1:\n",
    "        return A\n",
    "    else:\n",
    "        pivot = A.pop()\n",
    "    lower = []\n",
    "    greater = []\n",
    "    \n",
    "    for item in A:\n",
    "        if pivot < item:\n",
    "            greater.append(item)\n",
    "        else :\n",
    "            lower.append(item)\n",
    "        \n",
    "    return quick_sort(lower) + [pivot] + quick_sort(greater)\n",
    "\n",
    "\n",
    "\n",
    "List=[29,13,22,37,52,49,46,71,56]\n",
    "\n",
    "print(\"Sorted list is:\", quick_sort(List))\n",
    "    "
   ]
  },
  {
   "cell_type": "code",
   "execution_count": null,
   "id": "347f788b",
   "metadata": {},
   "outputs": [],
   "source": []
  }
 ],
 "metadata": {
  "kernelspec": {
   "display_name": "Python 3 (ipykernel)",
   "language": "python",
   "name": "python3"
  },
  "language_info": {
   "codemirror_mode": {
    "name": "ipython",
    "version": 3
   },
   "file_extension": ".py",
   "mimetype": "text/x-python",
   "name": "python",
   "nbconvert_exporter": "python",
   "pygments_lexer": "ipython3",
   "version": "3.9.12"
  }
 },
 "nbformat": 4,
 "nbformat_minor": 5
}
